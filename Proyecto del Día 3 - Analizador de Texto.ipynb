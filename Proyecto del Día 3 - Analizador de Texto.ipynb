{
 "cells": [
  {
   "cell_type": "markdown",
   "id": "9572445f",
   "metadata": {},
   "source": [
    "# Proyecto del Día 3: Analizador de Texto\n",
    "\n",
    "Este proyecto tiene como objetivo aplicar los conceptos aprendidos sobre strings, input, indexación y formateo de strings en Python. El programa permitirá al usuario ingresar un texto y luego elegir realizar diversas operaciones de análisis sobre ese texto.\n",
    "\n",
    "## Consigna\n",
    "Vas a crear un programa que le pida al usuario que ingrese un texto de al menos 10 palabras. Tu programa va a procesar ese texto, lo va a procesar, y le va a devolver un análisis detallado, que incluya:\n",
    "1. Contar el número total de caracteres en el texto\n",
    "2. Contar el número de caracteres sin incluir los espacios\n",
    "3. Contar la cantidad de vocales que hay en el texto\n",
    "4. Contar el número total de palabras en el texto ingresado\n",
    "\n",
    "**nota**: para resolver los siguientes items, deberás investigar otros métodos de strings que no hemos visto. Recuerda valerte de *type*, *dir* y *help*\n",
    "\n",
    "5. Eliminar la primera palabra\n",
    "6. Reemplazar todos los espacios por guiones medios (-)\n",
    "8. Cambia las mayúsculas a minúsculas y las minúsculas a mayúsculas \n",
    "\n",
    "Al finalizar el procesamiento, se imprimirán 8 cadenas literales mostrando los resultados del análisis (una cadena por cada resultado).\n",
    "<br>\n",
    "<br>\n",
    "<br>"
   ]
  },
  {
   "cell_type": "markdown",
   "id": "e5cd9e4d",
   "metadata": {},
   "source": [
    "### Resolución\n",
    "\n",
    "Ingreso del usuario:"
   ]
  },
  {
   "cell_type": "code",
   "execution_count": 2,
   "id": "fa27da8c",
   "metadata": {},
   "outputs": [
    {
     "name": "stdin",
     "output_type": "stream",
     "text": [
      "Ingresa un texto de al menos 10 palabras:  Estoy aprendiendo python para ser una cientifica de datos exitosa\n"
     ]
    }
   ],
   "source": [
    "analizador = input(\"Ingresa un texto de al menos 10 palabras: \")"
   ]
  },
  {
   "cell_type": "markdown",
   "id": "41214377",
   "metadata": {},
   "source": [
    "1. Contar el número total de caracteres en el texto"
   ]
  },
  {
   "cell_type": "code",
   "execution_count": 5,
   "id": "40448873",
   "metadata": {},
   "outputs": [
    {
     "data": {
      "text/plain": [
       "65"
      ]
     },
     "execution_count": 5,
     "metadata": {},
     "output_type": "execute_result"
    }
   ],
   "source": [
    "caracteres = len(analizador)\n",
    "caracteres"
   ]
  },
  {
   "cell_type": "markdown",
   "id": "3d6378dc",
   "metadata": {},
   "source": [
    "2. Contar el número de caracteres sin incluir los espacios"
   ]
  },
  {
   "cell_type": "code",
   "execution_count": 6,
   "id": "991b29c7",
   "metadata": {},
   "outputs": [
    {
     "data": {
      "text/plain": [
       "56"
      ]
     },
     "execution_count": 6,
     "metadata": {},
     "output_type": "execute_result"
    }
   ],
   "source": [
    "caracteres_sin_espacio = caracteres - analizador.count(\" \")\n",
    "caracteres_sin_espacio"
   ]
  },
  {
   "cell_type": "markdown",
   "id": "c6e62385",
   "metadata": {},
   "source": [
    "3. Contar la cantidad de vocales que hay en el texto"
   ]
  },
  {
   "cell_type": "code",
   "execution_count": 7,
   "id": "65b19bc7",
   "metadata": {},
   "outputs": [
    {
     "data": {
      "text/plain": [
       "24"
      ]
     },
     "execution_count": 7,
     "metadata": {},
     "output_type": "execute_result"
    }
   ],
   "source": [
    "num_a = analizador.count(\"a\")\n",
    "num_e = analizador.count(\"e\")\n",
    "num_i = analizador.count(\"i\")\n",
    "num_o = analizador.count(\"o\")\n",
    "num_u = analizador.count(\"u\")\n",
    "num_vocales = num_a + num_e + num_i + num_o + num_u\n",
    "num_vocales"
   ]
  },
  {
   "cell_type": "markdown",
   "id": "4b6211c5",
   "metadata": {},
   "source": [
    "4. Contar el número total de palabras en el texto ingresado"
   ]
  },
  {
   "cell_type": "code",
   "execution_count": 8,
   "id": "5b6eb1b1",
   "metadata": {},
   "outputs": [
    {
     "data": {
      "text/plain": [
       "10"
      ]
     },
     "execution_count": 8,
     "metadata": {},
     "output_type": "execute_result"
    }
   ],
   "source": [
    "num_palabras = analizador.count(\" \") + 1\n",
    "num_palabras"
   ]
  },
  {
   "cell_type": "markdown",
   "id": "bee5597e",
   "metadata": {},
   "source": [
    "5. Eliminar la primera palabra"
   ]
  },
  {
   "cell_type": "code",
   "execution_count": 13,
   "id": "8bcbfe9d",
   "metadata": {},
   "outputs": [
    {
     "data": {
      "text/plain": [
       "' aprendiendo python para ser una cientifica de datos exitosa'"
      ]
     },
     "execution_count": 13,
     "metadata": {},
     "output_type": "execute_result"
    }
   ],
   "source": [
    "primer_espacio = analizador.find(\" \")\n",
    "sin_primera_palabra = analizador[5:65]\n",
    "sin_primera_palabra"
   ]
  },
  {
   "cell_type": "markdown",
   "id": "d5b05440",
   "metadata": {},
   "source": [
    "6. Reemplazar todos los espacios por guiones medios (-)"
   ]
  },
  {
   "cell_type": "code",
   "execution_count": 15,
   "id": "90a21e61",
   "metadata": {},
   "outputs": [
    {
     "data": {
      "text/plain": [
       "'Estoy-aprendiendo-python-para-ser-una-cientifica-de-datos-exitosa'"
      ]
     },
     "execution_count": 15,
     "metadata": {},
     "output_type": "execute_result"
    }
   ],
   "source": [
    "guiones = analizador.replace(\" \", \"-\")\n",
    "guiones"
   ]
  },
  {
   "cell_type": "markdown",
   "id": "8a61c508",
   "metadata": {},
   "source": [
    "7. Cambia las mayúsculas a minúsculas y las minúsculas a mayúsculas"
   ]
  },
  {
   "cell_type": "code",
   "execution_count": 16,
   "id": "8cb35aaf",
   "metadata": {},
   "outputs": [
    {
     "data": {
      "text/plain": [
       "'eSTOY APRENDIENDO PYTHON PARA SER UNA CIENTIFICA DE DATOS EXITOSA'"
      ]
     },
     "execution_count": 16,
     "metadata": {},
     "output_type": "execute_result"
    }
   ],
   "source": [
    "intercambio = analizador.swapcase()\n",
    "intercambio"
   ]
  },
  {
   "cell_type": "markdown",
   "id": "66b8d816",
   "metadata": {},
   "source": [
    "Muéstrale al usuario los resultados del análisis de su texto."
   ]
  },
  {
   "cell_type": "code",
   "execution_count": 18,
   "id": "eb0d449a",
   "metadata": {},
   "outputs": [
    {
     "name": "stdout",
     "output_type": "stream",
     "text": [
      "El número total de caracteres en el texto es 65\n",
      "El número de caracteres sin incluir los espacios es 56\n",
      "La cantidad de vocales que hay en el texto es 24\n",
      "El número total de palabras en el texto ingresado es 10\n",
      "Si eliminas la primera palabra del texto queda asi:  aprendiendo python para ser una cientifica de datos exitosa\n",
      "Si reemplazas todos los espacios por guiones medios el texto queda asi: Estoy-aprendiendo-python-para-ser-una-cientifica-de-datos-exitosa\n",
      "Si Cambias las mayúsculas a minúsculas y las minúsculas a mayúsculas el texto queda asi: eSTOY APRENDIENDO PYTHON PARA SER UNA CIENTIFICA DE DATOS EXITOSA\n"
     ]
    }
   ],
   "source": [
    "print(f\"El número total de caracteres en el texto es {caracteres}\")\n",
    "print(f\"El número de caracteres sin incluir los espacios es {caracteres_sin_espacio}\")\n",
    "print(f\"La cantidad de vocales que hay en el texto es {num_vocales}\")\n",
    "print(f\"El número total de palabras en el texto ingresado es {num_palabras}\")\n",
    "print(f\"Si eliminas la primera palabra del texto queda asi: {sin_primera_palabra}\")\n",
    "print(f\"Si reemplazas todos los espacios por guiones medios el texto queda asi: {guiones}\")\n",
    "print(f\"Si Cambias las mayúsculas a minúsculas y las minúsculas a mayúsculas el texto queda asi: {intercambio}\")\n"
   ]
  },
  {
   "cell_type": "code",
   "execution_count": null,
   "id": "14c224a9-1d5c-4de8-974f-18f323f7d95c",
   "metadata": {},
   "outputs": [],
   "source": []
  }
 ],
 "metadata": {
  "kernelspec": {
   "display_name": "Python 3 (ipykernel)",
   "language": "python",
   "name": "python3"
  },
  "language_info": {
   "codemirror_mode": {
    "name": "ipython",
    "version": 3
   },
   "file_extension": ".py",
   "mimetype": "text/x-python",
   "name": "python",
   "nbconvert_exporter": "python",
   "pygments_lexer": "ipython3",
   "version": "3.12.4"
  }
 },
 "nbformat": 4,
 "nbformat_minor": 5
}
